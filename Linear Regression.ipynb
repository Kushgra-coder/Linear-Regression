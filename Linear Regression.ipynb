{
 "cells": [
  {
   "cell_type": "code",
   "execution_count": 1,
   "id": "49284e0b",
   "metadata": {},
   "outputs": [],
   "source": [
    "import numpy as np\n",
    "import pandas as pd"
   ]
  },
  {
   "cell_type": "code",
   "execution_count": 9,
   "id": "aa11c6a8",
   "metadata": {
    "scrolled": true
   },
   "outputs": [
    {
     "data": {
      "text/html": [
       "<div>\n",
       "<style scoped>\n",
       "    .dataframe tbody tr th:only-of-type {\n",
       "        vertical-align: middle;\n",
       "    }\n",
       "\n",
       "    .dataframe tbody tr th {\n",
       "        vertical-align: top;\n",
       "    }\n",
       "\n",
       "    .dataframe thead th {\n",
       "        text-align: right;\n",
       "    }\n",
       "</style>\n",
       "<table border=\"1\" class=\"dataframe\">\n",
       "  <thead>\n",
       "    <tr style=\"text-align: right;\">\n",
       "      <th></th>\n",
       "      <th>1</th>\n",
       "      <th>2</th>\n",
       "      <th>3</th>\n",
       "      <th>4</th>\n",
       "      <th>5</th>\n",
       "      <th>6</th>\n",
       "      <th>7</th>\n",
       "      <th>8</th>\n",
       "      <th>9</th>\n",
       "      <th>10</th>\n",
       "      <th>...</th>\n",
       "      <th>48</th>\n",
       "      <th>49</th>\n",
       "      <th>50</th>\n",
       "      <th>51</th>\n",
       "      <th>52</th>\n",
       "      <th>53</th>\n",
       "      <th>54</th>\n",
       "      <th>55</th>\n",
       "      <th>56</th>\n",
       "      <th>57</th>\n",
       "    </tr>\n",
       "  </thead>\n",
       "  <tbody>\n",
       "    <tr>\n",
       "      <th>0</th>\n",
       "      <td>0.999421</td>\n",
       "      <td>0.355264</td>\n",
       "      <td>1.000304</td>\n",
       "      <td>0.590057</td>\n",
       "      <td>0.630485</td>\n",
       "      <td>0.621278</td>\n",
       "      <td>0.641529</td>\n",
       "      <td>0.491154</td>\n",
       "      <td>0.748864</td>\n",
       "      <td>0.527247</td>\n",
       "      <td>...</td>\n",
       "      <td>0.362832</td>\n",
       "      <td>0.608737</td>\n",
       "      <td>0.635514</td>\n",
       "      <td>0.580335</td>\n",
       "      <td>0.345962</td>\n",
       "      <td>0.382472</td>\n",
       "      <td>0.413072</td>\n",
       "      <td>0.431093</td>\n",
       "      <td>0.904570</td>\n",
       "      <td>1.002463</td>\n",
       "    </tr>\n",
       "    <tr>\n",
       "      <th>1</th>\n",
       "      <td>1.003766</td>\n",
       "      <td>2.357199</td>\n",
       "      <td>1.002182</td>\n",
       "      <td>1.461197</td>\n",
       "      <td>1.408593</td>\n",
       "      <td>1.462309</td>\n",
       "      <td>1.346198</td>\n",
       "      <td>1.334294</td>\n",
       "      <td>1.594841</td>\n",
       "      <td>1.310602</td>\n",
       "      <td>...</td>\n",
       "      <td>0.489114</td>\n",
       "      <td>0.844642</td>\n",
       "      <td>0.877730</td>\n",
       "      <td>0.806290</td>\n",
       "      <td>0.497315</td>\n",
       "      <td>0.482110</td>\n",
       "      <td>0.522182</td>\n",
       "      <td>0.694258</td>\n",
       "      <td>1.031612</td>\n",
       "      <td>0.998990</td>\n",
       "    </tr>\n",
       "    <tr>\n",
       "      <th>2</th>\n",
       "      <td>0.998557</td>\n",
       "      <td>0.594146</td>\n",
       "      <td>0.999972</td>\n",
       "      <td>0.787051</td>\n",
       "      <td>0.929726</td>\n",
       "      <td>0.956943</td>\n",
       "      <td>0.895385</td>\n",
       "      <td>0.975162</td>\n",
       "      <td>0.621313</td>\n",
       "      <td>1.030081</td>\n",
       "      <td>...</td>\n",
       "      <td>0.684558</td>\n",
       "      <td>0.909024</td>\n",
       "      <td>0.987850</td>\n",
       "      <td>0.820712</td>\n",
       "      <td>0.881836</td>\n",
       "      <td>0.522818</td>\n",
       "      <td>0.771855</td>\n",
       "      <td>0.894809</td>\n",
       "      <td>1.686547</td>\n",
       "      <td>0.997543</td>\n",
       "    </tr>\n",
       "    <tr>\n",
       "      <th>3</th>\n",
       "      <td>1.000145</td>\n",
       "      <td>0.990400</td>\n",
       "      <td>1.000411</td>\n",
       "      <td>0.901671</td>\n",
       "      <td>0.847443</td>\n",
       "      <td>0.847968</td>\n",
       "      <td>0.846735</td>\n",
       "      <td>0.923588</td>\n",
       "      <td>0.871363</td>\n",
       "      <td>0.820442</td>\n",
       "      <td>...</td>\n",
       "      <td>0.376745</td>\n",
       "      <td>0.553467</td>\n",
       "      <td>0.588207</td>\n",
       "      <td>0.512583</td>\n",
       "      <td>0.459757</td>\n",
       "      <td>0.297906</td>\n",
       "      <td>0.432135</td>\n",
       "      <td>0.429002</td>\n",
       "      <td>1.543329</td>\n",
       "      <td>0.997110</td>\n",
       "    </tr>\n",
       "    <tr>\n",
       "      <th>4</th>\n",
       "      <td>1.000289</td>\n",
       "      <td>0.779466</td>\n",
       "      <td>0.999789</td>\n",
       "      <td>0.982181</td>\n",
       "      <td>0.812437</td>\n",
       "      <td>0.785275</td>\n",
       "      <td>0.849120</td>\n",
       "      <td>1.070743</td>\n",
       "      <td>0.852373</td>\n",
       "      <td>0.865320</td>\n",
       "      <td>...</td>\n",
       "      <td>0.389046</td>\n",
       "      <td>0.386040</td>\n",
       "      <td>0.398974</td>\n",
       "      <td>0.371018</td>\n",
       "      <td>0.542527</td>\n",
       "      <td>0.255802</td>\n",
       "      <td>0.338922</td>\n",
       "      <td>0.384600</td>\n",
       "      <td>2.120954</td>\n",
       "      <td>0.995522</td>\n",
       "    </tr>\n",
       "  </tbody>\n",
       "</table>\n",
       "<p>5 rows × 57 columns</p>\n",
       "</div>"
      ],
      "text/plain": [
       "         1         2         3         4         5         6         7   \\\n",
       "0  0.999421  0.355264  1.000304  0.590057  0.630485  0.621278  0.641529   \n",
       "1  1.003766  2.357199  1.002182  1.461197  1.408593  1.462309  1.346198   \n",
       "2  0.998557  0.594146  0.999972  0.787051  0.929726  0.956943  0.895385   \n",
       "3  1.000145  0.990400  1.000411  0.901671  0.847443  0.847968  0.846735   \n",
       "4  1.000289  0.779466  0.999789  0.982181  0.812437  0.785275  0.849120   \n",
       "\n",
       "         8         9         10  ...        48        49        50        51  \\\n",
       "0  0.491154  0.748864  0.527247  ...  0.362832  0.608737  0.635514  0.580335   \n",
       "1  1.334294  1.594841  1.310602  ...  0.489114  0.844642  0.877730  0.806290   \n",
       "2  0.975162  0.621313  1.030081  ...  0.684558  0.909024  0.987850  0.820712   \n",
       "3  0.923588  0.871363  0.820442  ...  0.376745  0.553467  0.588207  0.512583   \n",
       "4  1.070743  0.852373  0.865320  ...  0.389046  0.386040  0.398974  0.371018   \n",
       "\n",
       "         52        53        54        55        56        57  \n",
       "0  0.345962  0.382472  0.413072  0.431093  0.904570  1.002463  \n",
       "1  0.497315  0.482110  0.522182  0.694258  1.031612  0.998990  \n",
       "2  0.881836  0.522818  0.771855  0.894809  1.686547  0.997543  \n",
       "3  0.459757  0.297906  0.432135  0.429002  1.543329  0.997110  \n",
       "4  0.542527  0.255802  0.338922  0.384600  2.120954  0.995522  \n",
       "\n",
       "[5 rows x 57 columns]"
      ]
     },
     "execution_count": 9,
     "metadata": {},
     "output_type": "execute_result"
    }
   ],
   "source": [
    "df=pd.read_csv('dataFile.txt',header=0,names=range(1,58))\n",
    "df.head()"
   ]
  },
  {
   "cell_type": "code",
   "execution_count": 10,
   "id": "600b6b99",
   "metadata": {},
   "outputs": [
    {
     "data": {
      "text/plain": [
       "(104617, 57)"
      ]
     },
     "execution_count": 10,
     "metadata": {},
     "output_type": "execute_result"
    }
   ],
   "source": [
    "df.shape"
   ]
  },
  {
   "cell_type": "code",
   "execution_count": 24,
   "id": "97807976",
   "metadata": {},
   "outputs": [],
   "source": [
    "from sklearn.preprocessing import StandardScaler"
   ]
  },
  {
   "cell_type": "code",
   "execution_count": 33,
   "id": "981c5e2f",
   "metadata": {},
   "outputs": [],
   "source": [
    "sc=StandardScaler()\n",
    "scaled=pd.DataFrame(sc.fit_transform(df),columns=range(1,58))"
   ]
  },
  {
   "cell_type": "code",
   "execution_count": 35,
   "id": "3b0a8204",
   "metadata": {},
   "outputs": [
    {
     "data": {
      "text/html": [
       "<div>\n",
       "<style scoped>\n",
       "    .dataframe tbody tr th:only-of-type {\n",
       "        vertical-align: middle;\n",
       "    }\n",
       "\n",
       "    .dataframe tbody tr th {\n",
       "        vertical-align: top;\n",
       "    }\n",
       "\n",
       "    .dataframe thead th {\n",
       "        text-align: right;\n",
       "    }\n",
       "</style>\n",
       "<table border=\"1\" class=\"dataframe\">\n",
       "  <thead>\n",
       "    <tr style=\"text-align: right;\">\n",
       "      <th></th>\n",
       "      <th>1</th>\n",
       "      <th>2</th>\n",
       "      <th>3</th>\n",
       "      <th>4</th>\n",
       "      <th>5</th>\n",
       "      <th>6</th>\n",
       "      <th>7</th>\n",
       "      <th>8</th>\n",
       "      <th>9</th>\n",
       "      <th>10</th>\n",
       "      <th>...</th>\n",
       "      <th>48</th>\n",
       "      <th>49</th>\n",
       "      <th>50</th>\n",
       "      <th>51</th>\n",
       "      <th>52</th>\n",
       "      <th>53</th>\n",
       "      <th>54</th>\n",
       "      <th>55</th>\n",
       "      <th>56</th>\n",
       "      <th>57</th>\n",
       "    </tr>\n",
       "  </thead>\n",
       "  <tbody>\n",
       "    <tr>\n",
       "      <th>0</th>\n",
       "      <td>-0.731787</td>\n",
       "      <td>-0.606630</td>\n",
       "      <td>0.449917</td>\n",
       "      <td>-0.827260</td>\n",
       "      <td>-0.873073</td>\n",
       "      <td>-0.871025</td>\n",
       "      <td>-0.759351</td>\n",
       "      <td>-0.716531</td>\n",
       "      <td>-0.556362</td>\n",
       "      <td>-1.032168</td>\n",
       "      <td>...</td>\n",
       "      <td>-0.851566</td>\n",
       "      <td>-0.661839</td>\n",
       "      <td>-0.624739</td>\n",
       "      <td>-0.624883</td>\n",
       "      <td>-0.692781</td>\n",
       "      <td>-0.798647</td>\n",
       "      <td>-0.883721</td>\n",
       "      <td>-0.851218</td>\n",
       "      <td>-0.340301</td>\n",
       "      <td>1.842601</td>\n",
       "    </tr>\n",
       "    <tr>\n",
       "      <th>1</th>\n",
       "      <td>4.755877</td>\n",
       "      <td>0.649548</td>\n",
       "      <td>3.237241</td>\n",
       "      <td>0.584562</td>\n",
       "      <td>0.603440</td>\n",
       "      <td>0.671392</td>\n",
       "      <td>0.375506</td>\n",
       "      <td>0.173345</td>\n",
       "      <td>0.742510</td>\n",
       "      <td>0.400948</td>\n",
       "      <td>...</td>\n",
       "      <td>-0.721377</td>\n",
       "      <td>-0.378244</td>\n",
       "      <td>-0.345349</td>\n",
       "      <td>-0.396538</td>\n",
       "      <td>-0.581973</td>\n",
       "      <td>-0.702041</td>\n",
       "      <td>-0.756226</td>\n",
       "      <td>-0.548298</td>\n",
       "      <td>-0.196428</td>\n",
       "      <td>-0.756995</td>\n",
       "    </tr>\n",
       "    <tr>\n",
       "      <th>2</th>\n",
       "      <td>-1.822964</td>\n",
       "      <td>-0.456736</td>\n",
       "      <td>-0.042490</td>\n",
       "      <td>-0.507999</td>\n",
       "      <td>-0.305243</td>\n",
       "      <td>-0.255429</td>\n",
       "      <td>-0.350521</td>\n",
       "      <td>-0.205694</td>\n",
       "      <td>-0.752197</td>\n",
       "      <td>-0.112253</td>\n",
       "      <td>...</td>\n",
       "      <td>-0.519888</td>\n",
       "      <td>-0.300845</td>\n",
       "      <td>-0.218328</td>\n",
       "      <td>-0.381964</td>\n",
       "      <td>-0.300460</td>\n",
       "      <td>-0.662572</td>\n",
       "      <td>-0.464484</td>\n",
       "      <td>-0.317449</td>\n",
       "      <td>0.545273</td>\n",
       "      <td>-1.839933</td>\n",
       "    </tr>\n",
       "    <tr>\n",
       "      <th>3</th>\n",
       "      <td>0.182047</td>\n",
       "      <td>-0.208094</td>\n",
       "      <td>0.608560</td>\n",
       "      <td>-0.322240</td>\n",
       "      <td>-0.461380</td>\n",
       "      <td>-0.455284</td>\n",
       "      <td>-0.428870</td>\n",
       "      <td>-0.260127</td>\n",
       "      <td>-0.368283</td>\n",
       "      <td>-0.495780</td>\n",
       "      <td>...</td>\n",
       "      <td>-0.837222</td>\n",
       "      <td>-0.728284</td>\n",
       "      <td>-0.679307</td>\n",
       "      <td>-0.693352</td>\n",
       "      <td>-0.609469</td>\n",
       "      <td>-0.880641</td>\n",
       "      <td>-0.861447</td>\n",
       "      <td>-0.853625</td>\n",
       "      <td>0.383082</td>\n",
       "      <td>-2.164173</td>\n",
       "    </tr>\n",
       "    <tr>\n",
       "      <th>4</th>\n",
       "      <td>0.364508</td>\n",
       "      <td>-0.340451</td>\n",
       "      <td>-0.314729</td>\n",
       "      <td>-0.191760</td>\n",
       "      <td>-0.527806</td>\n",
       "      <td>-0.570260</td>\n",
       "      <td>-0.425030</td>\n",
       "      <td>-0.104814</td>\n",
       "      <td>-0.397440</td>\n",
       "      <td>-0.413678</td>\n",
       "      <td>...</td>\n",
       "      <td>-0.824541</td>\n",
       "      <td>-0.929558</td>\n",
       "      <td>-0.897582</td>\n",
       "      <td>-0.836413</td>\n",
       "      <td>-0.548872</td>\n",
       "      <td>-0.921464</td>\n",
       "      <td>-0.970365</td>\n",
       "      <td>-0.904734</td>\n",
       "      <td>1.037230</td>\n",
       "      <td>-3.353061</td>\n",
       "    </tr>\n",
       "  </tbody>\n",
       "</table>\n",
       "<p>5 rows × 57 columns</p>\n",
       "</div>"
      ],
      "text/plain": [
       "         1         2         3         4         5         6         7   \\\n",
       "0 -0.731787 -0.606630  0.449917 -0.827260 -0.873073 -0.871025 -0.759351   \n",
       "1  4.755877  0.649548  3.237241  0.584562  0.603440  0.671392  0.375506   \n",
       "2 -1.822964 -0.456736 -0.042490 -0.507999 -0.305243 -0.255429 -0.350521   \n",
       "3  0.182047 -0.208094  0.608560 -0.322240 -0.461380 -0.455284 -0.428870   \n",
       "4  0.364508 -0.340451 -0.314729 -0.191760 -0.527806 -0.570260 -0.425030   \n",
       "\n",
       "         8         9         10  ...        48        49        50        51  \\\n",
       "0 -0.716531 -0.556362 -1.032168  ... -0.851566 -0.661839 -0.624739 -0.624883   \n",
       "1  0.173345  0.742510  0.400948  ... -0.721377 -0.378244 -0.345349 -0.396538   \n",
       "2 -0.205694 -0.752197 -0.112253  ... -0.519888 -0.300845 -0.218328 -0.381964   \n",
       "3 -0.260127 -0.368283 -0.495780  ... -0.837222 -0.728284 -0.679307 -0.693352   \n",
       "4 -0.104814 -0.397440 -0.413678  ... -0.824541 -0.929558 -0.897582 -0.836413   \n",
       "\n",
       "         52        53        54        55        56        57  \n",
       "0 -0.692781 -0.798647 -0.883721 -0.851218 -0.340301  1.842601  \n",
       "1 -0.581973 -0.702041 -0.756226 -0.548298 -0.196428 -0.756995  \n",
       "2 -0.300460 -0.662572 -0.464484 -0.317449  0.545273 -1.839933  \n",
       "3 -0.609469 -0.880641 -0.861447 -0.853625  0.383082 -2.164173  \n",
       "4 -0.548872 -0.921464 -0.970365 -0.904734  1.037230 -3.353061  \n",
       "\n",
       "[5 rows x 57 columns]"
      ]
     },
     "execution_count": 35,
     "metadata": {},
     "output_type": "execute_result"
    }
   ],
   "source": [
    "scaled.head()"
   ]
  },
  {
   "cell_type": "code",
   "execution_count": 36,
   "id": "c1242873",
   "metadata": {},
   "outputs": [
    {
     "data": {
      "text/plain": [
       "(104617, 56)"
      ]
     },
     "execution_count": 36,
     "metadata": {},
     "output_type": "execute_result"
    }
   ],
   "source": [
    "X=scaled.drop(columns=57)\n",
    "X.shape"
   ]
  },
  {
   "cell_type": "code",
   "execution_count": 37,
   "id": "6363be36",
   "metadata": {},
   "outputs": [
    {
     "data": {
      "text/plain": [
       "(104617,)"
      ]
     },
     "execution_count": 37,
     "metadata": {},
     "output_type": "execute_result"
    }
   ],
   "source": [
    "y=scaled[57]\n",
    "y.shape"
   ]
  },
  {
   "cell_type": "code",
   "execution_count": 17,
   "id": "81ddb603",
   "metadata": {},
   "outputs": [],
   "source": [
    "from sklearn.linear_model import LinearRegression\n",
    "from sklearn.model_selection import train_test_split"
   ]
  },
  {
   "cell_type": "code",
   "execution_count": 38,
   "id": "c3028711",
   "metadata": {},
   "outputs": [
    {
     "data": {
      "text/plain": [
       "0.004614475022483688"
      ]
     },
     "execution_count": 38,
     "metadata": {},
     "output_type": "execute_result"
    }
   ],
   "source": [
    "X_train,X_test,y_train,y_test=train_test_split(X,y,test_size=0.3,random_state=0)\n",
    "lrmodel=LinearRegression().fit(X_train,y_train)\n",
    "lrmodel.score(X_train,y_train)"
   ]
  },
  {
   "cell_type": "code",
   "execution_count": 39,
   "id": "1bf88490",
   "metadata": {},
   "outputs": [
    {
     "data": {
      "text/plain": [
       "0.0007020673305675462"
      ]
     },
     "execution_count": 39,
     "metadata": {},
     "output_type": "execute_result"
    }
   ],
   "source": [
    "lrmodel.score(X_test,y_test)"
   ]
  },
  {
   "cell_type": "code",
   "execution_count": 46,
   "id": "967c997a",
   "metadata": {},
   "outputs": [],
   "source": [
    "from sklearn.linear_model import SGDRegressor"
   ]
  },
  {
   "cell_type": "code",
   "execution_count": 47,
   "id": "a7fcf969",
   "metadata": {},
   "outputs": [
    {
     "data": {
      "text/plain": [
       "-0.0027293301371611456"
      ]
     },
     "execution_count": 47,
     "metadata": {},
     "output_type": "execute_result"
    }
   ],
   "source": [
    "sgd=SGDRegressor(random_state=0).fit(X_train,y_train)\n",
    "sgd.score(X_train,y_train)"
   ]
  },
  {
   "cell_type": "code",
   "execution_count": 48,
   "id": "1db68c7f",
   "metadata": {},
   "outputs": [
    {
     "data": {
      "text/plain": [
       "-0.003199631890620447"
      ]
     },
     "execution_count": 48,
     "metadata": {},
     "output_type": "execute_result"
    }
   ],
   "source": [
    "sgd.score(X_test,y_test)"
   ]
  },
  {
   "cell_type": "code",
   "execution_count": 51,
   "id": "84d8030c",
   "metadata": {},
   "outputs": [],
   "source": [
    "from statsmodels.api import OLS"
   ]
  },
  {
   "cell_type": "code",
   "execution_count": 55,
   "id": "0463ff0b",
   "metadata": {},
   "outputs": [
    {
     "name": "stdout",
     "output_type": "stream",
     "text": [
      "                                 OLS Regression Results                                \n",
      "=======================================================================================\n",
      "Dep. Variable:                     57   R-squared (uncentered):                   0.005\n",
      "Model:                            OLS   Adj. R-squared (uncentered):              0.004\n",
      "Method:                 Least Squares   F-statistic:                              6.058\n",
      "Date:                Sun, 28 Aug 2022   Prob (F-statistic):                    4.90e-42\n",
      "Time:                        13:23:57   Log-Likelihood:                     -1.0383e+05\n",
      "No. Observations:               73231   AIC:                                  2.078e+05\n",
      "Df Residuals:                   73175   BIC:                                  2.083e+05\n",
      "Df Model:                          56                                                  \n",
      "Covariance Type:            nonrobust                                                  \n",
      "==============================================================================\n",
      "                 coef    std err          t      P>|t|      [0.025      0.975]\n",
      "------------------------------------------------------------------------------\n",
      "1             -0.0121      0.008     -1.463      0.143      -0.028       0.004\n",
      "2             -0.0010      0.007     -0.132      0.895      -0.015       0.013\n",
      "3              0.0071      0.009      0.796      0.426      -0.010       0.024\n",
      "4              0.0073      0.021      0.345      0.730      -0.034       0.049\n",
      "5              0.0306      0.030      1.016      0.310      -0.028       0.089\n",
      "6             -0.0142      0.018     -0.793      0.428      -0.049       0.021\n",
      "7             -0.0242      0.017     -1.393      0.164      -0.058       0.010\n",
      "8             -0.0029      0.011     -0.260      0.795      -0.024       0.019\n",
      "9             -0.0031      0.013     -0.241      0.809      -0.028       0.022\n",
      "10             0.0097      0.011      0.922      0.357      -0.011       0.030\n",
      "11            -0.0141      0.010     -1.351      0.177      -0.035       0.006\n",
      "12            -0.0277      0.012     -2.389      0.017      -0.050      -0.005\n",
      "13            -0.0016      0.008     -0.199      0.842      -0.018       0.015\n",
      "14             0.0311      0.014      2.282      0.022       0.004       0.058\n",
      "15            -0.0015      0.026     -0.060      0.952      -0.052       0.049\n",
      "16             0.0094      0.032      0.293      0.769      -0.054       0.072\n",
      "17            -0.0174      0.019     -0.900      0.368      -0.055       0.020\n",
      "18             0.0021      0.018      0.112      0.911      -0.034       0.038\n",
      "19            -0.0009      0.013     -0.068      0.946      -0.027       0.025\n",
      "20             0.0070      0.015      0.481      0.631      -0.022       0.036\n",
      "21             0.0137      0.012      1.134      0.257      -0.010       0.037\n",
      "22            -0.0070      0.012     -0.583      0.560      -0.030       0.016\n",
      "23            -0.0168      0.014     -1.182      0.237      -0.045       0.011\n",
      "24             0.0045      0.008      0.550      0.582      -0.012       0.020\n",
      "25            -0.0091      0.013     -0.707      0.479      -0.034       0.016\n",
      "26            -0.0472      0.025     -1.853      0.064      -0.097       0.003\n",
      "27             0.0316      0.034      0.940      0.347      -0.034       0.097\n",
      "28            -0.0366      0.020     -1.838      0.066      -0.076       0.002\n",
      "29            -0.0188      0.019     -0.966      0.334      -0.057       0.019\n",
      "30             0.0293      0.013      2.234      0.025       0.004       0.055\n",
      "31             0.0412      0.015      2.803      0.005       0.012       0.070\n",
      "32            -0.0019      0.012     -0.151      0.880      -0.026       0.022\n",
      "33             0.0141      0.012      1.138      0.255      -0.010       0.038\n",
      "34            -0.0178      0.016     -1.119      0.263      -0.049       0.013\n",
      "35            -0.0056      0.008     -0.690      0.490      -0.022       0.010\n",
      "36             0.0154      0.015      1.018      0.309      -0.014       0.045\n",
      "37            -0.0104      0.026     -0.405      0.685      -0.060       0.040\n",
      "38             0.0005      0.031      0.016      0.987      -0.061       0.062\n",
      "39             0.0047      0.018      0.259      0.796      -0.031       0.041\n",
      "40            -0.0033      0.018     -0.179      0.858      -0.039       0.033\n",
      "41             0.0004      0.013      0.028      0.978      -0.025       0.026\n",
      "42             0.0032      0.014      0.223      0.823      -0.025       0.031\n",
      "43            -0.0059      0.012     -0.476      0.634      -0.030       0.018\n",
      "44             0.0046      0.013      0.368      0.713      -0.020       0.029\n",
      "45            -0.0356      0.021     -1.704      0.088      -0.077       0.005\n",
      "46            -0.0053      0.008     -0.677      0.499      -0.021       0.010\n",
      "47             0.0229      0.020      1.131      0.258      -0.017       0.063\n",
      "48            -0.0062      0.027     -0.227      0.821      -0.060       0.048\n",
      "49            -0.0436      0.031     -1.401      0.161      -0.105       0.017\n",
      "50             0.0511      0.019      2.764      0.006       0.015       0.087\n",
      "51             0.0375      0.018      2.112      0.035       0.003       0.072\n",
      "52             0.0223      0.016      1.393      0.163      -0.009       0.054\n",
      "53             0.0043      0.015      0.289      0.773      -0.025       0.034\n",
      "54             0.0172      0.013      1.374      0.169      -0.007       0.042\n",
      "55            -0.0188      0.012     -1.542      0.123      -0.043       0.005\n",
      "56            -0.0338      0.006     -5.705      0.000      -0.045      -0.022\n",
      "==============================================================================\n",
      "Omnibus:                    13187.717   Durbin-Watson:                   2.001\n",
      "Prob(Omnibus):                  0.000   Jarque-Bera (JB):           254908.518\n",
      "Skew:                           0.312   Prob(JB):                         0.00\n",
      "Kurtosis:                      12.119   Cond. No.                         60.3\n",
      "==============================================================================\n",
      "\n",
      "Notes:\n",
      "[1] R² is computed without centering (uncentered) since the model does not contain a constant.\n",
      "[2] Standard Errors assume that the covariance matrix of the errors is correctly specified.\n"
     ]
    }
   ],
   "source": [
    "model=OLS(y_train,X_train).fit()\n",
    "print(model.summary())"
   ]
  },
  {
   "cell_type": "code",
   "execution_count": 56,
   "id": "4a7cadf8",
   "metadata": {},
   "outputs": [],
   "source": [
    "from sklearn.decomposition import PCA"
   ]
  },
  {
   "cell_type": "code",
   "execution_count": 60,
   "id": "5a6befaa",
   "metadata": {},
   "outputs": [
    {
     "name": "stdout",
     "output_type": "stream",
     "text": [
      "3\n",
      "0.0019217795654857817\n",
      "0.0005227269688301561 \n",
      "\n",
      "4\n",
      "0.00204407079057789\n",
      "0.0002692014476757265 \n",
      "\n",
      "5\n",
      "0.0021415171071320627\n",
      "-1.7276639746821587e-05 \n",
      "\n",
      "6\n",
      "0.002370718583131648\n",
      "0.00022630764027742334 \n",
      "\n",
      "7\n",
      "0.0025814964039917454\n",
      "0.00037726525328141136 \n",
      "\n",
      "8\n",
      "0.0026301483101456302\n",
      "0.0003858608676843289 \n",
      "\n",
      "9\n",
      "0.002701553528499212\n",
      "0.00010683226162178094 \n",
      "\n",
      "10\n",
      "0.0027271911974958707\n",
      "0.0003208271584037581 \n",
      "\n",
      "11\n",
      "0.0030217480005672037\n",
      "-7.859553558664523e-05 \n",
      "\n",
      "12\n",
      "0.0032911729949545165\n",
      "-0.00022190393648946483 \n",
      "\n",
      "13\n",
      "0.0034270967763295745\n",
      "-0.0005525218949833377 \n",
      "\n",
      "14\n",
      "0.0034437273956861025\n",
      "-0.0006888784458967123 \n",
      "\n",
      "15\n",
      "0.003455317567323757\n",
      "-0.0006883325589972511 \n",
      "\n",
      "16\n",
      "0.003646452590324256\n",
      "-0.0008807914244792769 \n",
      "\n",
      "17\n",
      "0.0036471958332741083\n",
      "-0.0008861939400535146 \n",
      "\n",
      "18\n",
      "0.0036576015014884167\n",
      "-0.000950795587189246 \n",
      "\n",
      "19\n",
      "0.0037183525255348737\n",
      "-0.0010145602289184374 \n",
      "\n"
     ]
    }
   ],
   "source": [
    "for i in range(3,20):\n",
    "    pca = PCA(n_components = i, random_state = 0)\n",
    "    a=pd.DataFrame(pca.fit_transform(X_train),columns=range(i))\n",
    "    b=pd.DataFrame(pca.fit_transform(X_test),columns=range(i))\n",
    "    model=LinearRegression().fit(a,y_train)\n",
    "    print(i)\n",
    "    print(model.score(a,y_train))\n",
    "    print(model.score(b,y_test),'\\n')"
   ]
  },
  {
   "cell_type": "markdown",
   "id": "32e7066f",
   "metadata": {},
   "source": [
    "Our first model of linear Regression has shown the best result up till now. So we will use it for prediction"
   ]
  },
  {
   "cell_type": "code",
   "execution_count": 67,
   "id": "877d91d4",
   "metadata": {},
   "outputs": [
    {
     "data": {
      "text/plain": [
       "176.61344171054873"
      ]
     },
     "execution_count": 67,
     "metadata": {},
     "output_type": "execute_result"
    }
   ],
   "source": [
    "pre=lrmodel.predict(X_test)\n",
    "(((pre-y_test)**2).sum())**0.5"
   ]
  },
  {
   "cell_type": "markdown",
   "id": "88b6f219",
   "metadata": {},
   "source": [
    "This is our test RMSE"
   ]
  }
 ],
 "metadata": {
  "kernelspec": {
   "display_name": "Python 3",
   "language": "python",
   "name": "python3"
  },
  "language_info": {
   "codemirror_mode": {
    "name": "ipython",
    "version": 3
   },
   "file_extension": ".py",
   "mimetype": "text/x-python",
   "name": "python",
   "nbconvert_exporter": "python",
   "pygments_lexer": "ipython3",
   "version": "3.9.5"
  }
 },
 "nbformat": 4,
 "nbformat_minor": 5
}
